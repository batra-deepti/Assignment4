{
 "cells": [
  {
   "cell_type": "markdown",
   "metadata": {},
   "source": [
    "# <font color='red'>Question 1"
   ]
  },
  {
   "cell_type": "code",
   "execution_count": 1,
   "metadata": {},
   "outputs": [],
   "source": [
    "import pandas as pd\n",
    "import numpy as np\n",
    "import matplotlib.pyplot as plt\n",
    "%matplotlib inline"
   ]
  },
  {
   "cell_type": "markdown",
   "metadata": {},
   "source": [
    "### Sample Data to test"
   ]
  },
  {
   "cell_type": "code",
   "execution_count": 2,
   "metadata": {},
   "outputs": [],
   "source": [
    "months = [8,12,14,20,21,26,27,32,40]\n",
    "events = [1,1,1,0,1,0,1,0,0]"
   ]
  },
  {
   "cell_type": "markdown",
   "metadata": {},
   "source": [
    "# <font color='purple'>Function for KM Survival Plot, Median Survival Time:"
   ]
  },
  {
   "cell_type": "code",
   "execution_count": 3,
   "metadata": {},
   "outputs": [],
   "source": [
    "def km_plot(months,events):\n",
    "    survival = [1]\n",
    "    no_at_risk,no_of_deaths = risk(months,events)\n",
    "    for i in range(1,len(months)):\n",
    "        survival.append(survival[i-1]*((no_at_risk[i]-no_of_deaths[i])/no_at_risk[i]))\n",
    "    plt.step(months, survival)\n",
    "    plt.xlabel(\"Time(in months)\")\n",
    "    plt.ylabel(\"Survival Probability\")\n",
    "    plt.title(\"Kaplan Meier curve\")\n",
    "    \n",
    "    median_survival = np.median(months)\n",
    "    print(\"Median survival time:\",median_survival)"
   ]
  },
  {
   "cell_type": "code",
   "execution_count": 4,
   "metadata": {},
   "outputs": [],
   "source": [
    "def risk(months,events):\n",
    "    no_at_risk = [len(months)]\n",
    "    no_of_deaths = [0]\n",
    "    censored = [0]\n",
    "    for i in range(1,len(months)):\n",
    "        if events[i]==1:\n",
    "            no_of_deaths.append(1)\n",
    "            censored.append(0)\n",
    "        else:\n",
    "            no_of_deaths.append(0)\n",
    "            censored.append(1)\n",
    "        no_at_risk.append(no_at_risk[i-1]-(no_of_deaths[i-1]+censored[i-1]))\n",
    "    return no_at_risk,no_of_deaths\n",
    "    "
   ]
  },
  {
   "cell_type": "code",
   "execution_count": 5,
   "metadata": {},
   "outputs": [
    {
     "name": "stdout",
     "output_type": "stream",
     "text": [
      "Median survival time: 21.0\n"
     ]
    },
    {
     "data": {
      "image/png": "[encoded data removed]",
      "text/plain": [
       "<Figure size 432x288 with 1 Axes>"
      ]
     },
     "metadata": {
      "needs_background": "light"
     },
     "output_type": "display_data"
    }
   ],
   "source": [
    "km_plot(months,events)"
   ]
  },
  {
   "cell_type": "markdown",
   "metadata": {},
   "source": [
    "# <font color='purple'>Function to Perform Log-rank test"
   ]
  },
  {
   "cell_type": "markdown",
   "metadata": {},
   "source": [
    "### Considering the following hypothesis:"
   ]
  },
  {
   "cell_type": "markdown",
   "metadata": {},
   "source": [
    "\n",
    "### H0: Relapse-free time is identical between groups versus\n",
    "### H1: Relapse-free time is not identical between groups (α=0.05)"
   ]
  },
  {
   "cell_type": "markdown",
   "metadata": {},
   "source": [
    "### The test statistic for the log rank test is:\n"
   ]
  },
  {
   "cell_type": "code",
   "execution_count": 6,
   "metadata": {},
   "outputs": [
    {
     "data": {
      "image/png": "[encoded data removed]",
      "text/plain": [
       "<IPython.core.display.Image object>"
      ]
     },
     "execution_count": 6,
     "metadata": {},
     "output_type": "execute_result"
    }
   ],
   "source": [
    "from IPython.display import Image\n",
    "Image(filename='output.png')"
   ]
  },
  {
   "cell_type": "code",
   "execution_count": 7,
   "metadata": {},
   "outputs": [],
   "source": [
    "def cal_modifiedrisk(months,original_risks1,months1,o1,months2,o2,original_risks2):\n",
    "    g1_risks = [0]*len(months)\n",
    "    g2_risks = [0]*len(months)\n",
    "    for i in range(len(months)):\n",
    "        if months[i] in months1:\n",
    "            x = months1.index(months[i])\n",
    "            o1[x]=1\n",
    "            g1_risks[x]=original_risks1[x]\n",
    "        else:\n",
    "            p = np.asarray(months1)\n",
    "            ind = months1.index(p[p>=months[i]])\n",
    "            g1_risks[i]= original_risks1[ind]\n",
    "        if months[i] in months2:\n",
    "            y = months2.index(months[i])\n",
    "            o2[y]=1\n",
    "            g2_risks[y] = original_risks2[y]\n",
    "    return g1_risks,g2_risks\n"
   ]
  },
  {
   "cell_type": "code",
   "execution_count": 8,
   "metadata": {},
   "outputs": [],
   "source": [
    "\n",
    "def logrank(months1,events1,months2,events2):\n",
    "    months = []\n",
    "    g1_expected = []\n",
    "    g2_expected = []\n",
    "    for i in range(len(events1)):\n",
    "        if(events1[i]==1):\n",
    "            months.append(months1[i])\n",
    "    for i in range(len(events2)):\n",
    "        if(events2[i]==1):\n",
    "            months.append(months2[i])\n",
    "            \n",
    "    months= set(months)\n",
    "    months = list(months)\n",
    "    o1= [0]*len(events1)\n",
    "    o2= [0]* len(events2)\n",
    "    o_tot = [0]*(max(len(o1),len(o2)))\n",
    "    original_risks1, a= risk(months1,events1)\n",
    "    original_risks2 ,a= risk(months2,events2)\n",
    "    g1_risks,g2_risks = cal_modifiedrisk(months,original_risks1,months1,o1,months2,o2,original_risks2)\n",
    "    risks_tot = [0]*max(len(g1_risks),len(g2_risks))\n",
    "    for i in range(len(risks_tot)):\n",
    "        risks_tot[i] = g1_risks[i]+g2_risks[i]\n",
    "        o_tot[i] = o1[i]+o2[i]\n",
    "    for i in range(len(months)):\n",
    "        g1_expected.append((g1_risks[i]*(o_tot[i]/risks_tot[i])))\n",
    "        g2_expected.append((g2_risks[i]*(o_tot[i]/risks_tot[i])))\n",
    "    o1_total = sum(o1)\n",
    "    o2_total = sum(o2)\n",
    "    e1_total = sum(g1_expected)\n",
    "    e2_total = sum(g2_expected)\n",
    "    test_stat = (((o1_total-e1_total)**2)/e1_total) + (((o2_total-e2_total)**2)/e2_total)\n",
    "    print(\"The test statistic value is \",test_stat)\n",
    "    \n",
    "    \n",
    "    \n",
    "    \n",
    "            \n",
    "        \n"
   ]
  },
  {
   "cell_type": "markdown",
   "metadata": {},
   "source": [
    "### Sample Data to test "
   ]
  },
  {
   "cell_type": "code",
   "execution_count": 9,
   "metadata": {},
   "outputs": [
    {
     "name": "stdout",
     "output_type": "stream",
     "text": [
      "The test statistic value is  0.023026315789473725\n"
     ]
    }
   ],
   "source": [
    "logrank([8,9,10,12,23],[1,1,0,0,1],[7,9,12,14,16],[0,1,1,1,0])"
   ]
  },
  {
   "cell_type": "markdown",
   "metadata": {},
   "source": [
    "### The test statistic follows a chi-square distribution, and so we find the critical value in the table of critical values for the Χ2 distribution) for df=k-1 and α=0.05"
   ]
  },
  {
   "cell_type": "markdown",
   "metadata": {},
   "source": [
    "### The rule is to reject H0 if Χ2 > Critical value"
   ]
  },
  {
   "cell_type": "markdown",
   "metadata": {},
   "source": [
    "# <font color='red'>Question 2 "
   ]
  },
  {
   "cell_type": "code",
   "execution_count": 10,
   "metadata": {},
   "outputs": [],
   "source": [
    "from scipy.stats import expon"
   ]
  },
  {
   "cell_type": "code",
   "execution_count": 11,
   "metadata": {},
   "outputs": [],
   "source": [
    "d = np.linspace(0,3,101)\n",
    "d1 = expon.pdf(d,0.01,0.3)\n",
    "d2 = expon.pdf(d,0.01,0.4)\n",
    "d = d[1:]\n",
    "d1 = d1[1:][::-1]\n",
    "d2 = d2[1:][::-1]"
   ]
  },
  {
   "cell_type": "code",
   "execution_count": 12,
   "metadata": {
    "scrolled": true
   },
   "outputs": [
    {
     "data": {
      "text/plain": [
       "[<matplotlib.lines.Line2D at 0x1219c8668>]"
      ]
     },
     "execution_count": 12,
     "metadata": {},
     "output_type": "execute_result"
    },
    {
     "data": {
      "image/png": "[encoded data removed]",
      "text/plain": [
       "<Figure size 432x288 with 1 Axes>"
      ]
     },
     "metadata": {
      "needs_background": "light"
     },
     "output_type": "display_data"
    }
   ],
   "source": [
    "plt.plot(d,d1)\n",
    "plt.plot(d,d2)"
   ]
  },
  {
   "cell_type": "code",
   "execution_count": 13,
   "metadata": {},
   "outputs": [],
   "source": [
    "event_d1 = []\n",
    "for i in range(len(d1)):\n",
    "    if(np.random.randint(0,10)==1):\n",
    "        event_d1.append(0)\n",
    "    else:\n",
    "        event_d1.append(1)"
   ]
  },
  {
   "cell_type": "code",
   "execution_count": 14,
   "metadata": {},
   "outputs": [],
   "source": [
    "event_d2 = []\n",
    "for i in range(len(d2)):\n",
    "    if(np.random.randint(0,10)==1):\n",
    "        event_d2.append(0)\n",
    "    else:\n",
    "        event_d2.append(1)"
   ]
  },
  {
   "cell_type": "code",
   "execution_count": 15,
   "metadata": {},
   "outputs": [
    {
     "name": "stdout",
     "output_type": "stream",
     "text": [
      "Median survival time: 0.022116211599808654\n",
      "Median survival time: 0.05810484035372809\n"
     ]
    },
    {
     "data": {
      "image/png": "[encoded data removed]",
      "text/plain": [
       "<Figure size 432x288 with 1 Axes>"
      ]
     },
     "metadata": {
      "needs_background": "light"
     },
     "output_type": "display_data"
    }
   ],
   "source": [
    "km_plot(d1,event_d1)\n",
    "km_plot(d2,event_d2)"
   ]
  },
  {
   "cell_type": "code",
   "execution_count": null,
   "metadata": {},
   "outputs": [],
   "source": []
  }
 ],
 "metadata": {
  "kernelspec": {
   "display_name": "Python 3",
   "language": "python",
   "name": "python3"
  },
  "language_info": {
   "codemirror_mode": {
    "name": "ipython",
    "version": 3
   },
   "file_extension": ".py",
   "mimetype": "text/x-python",
   "name": "python",
   "nbconvert_exporter": "python",
   "pygments_lexer": "ipython3",
   "version": "3.7.3"
  }
 },
 "nbformat": 4,
 "nbformat_minor": 2
}
